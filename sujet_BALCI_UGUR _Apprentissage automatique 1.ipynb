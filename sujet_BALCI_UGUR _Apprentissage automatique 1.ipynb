{
  "cells": [
    {
      "cell_type": "markdown",
      "metadata": {
        "id": "HP3xtkO43d96"
      },
      "source": [
        "# Sujet CCTP M1 Apprentissage Automatique 1 : classification de 35 commandes vocales"
      ]
    },
    {
      "cell_type": "markdown",
      "metadata": {
        "id": "CAD5RuXa3d9-"
      },
      "source": [
        "Nous vous fournissons un dataset de 35 mots clés provenant du jeu de données Google Speech Commands, sous la forme de tableaux numpy :\n",
        "\n",
        " - **Train** : 350 exemples, soit 10 exemples seulement par classe/mot,\n",
        " - **Valid** : 9981 exemples,\n",
        " - **Test** : 11005 exemples.\n",
        "\n",
        "Chaque mot/exemple est représenté par un unique vecteur de taille 768, issu d'un réseau pré-entraîné appelé wavLM [Chen et al., 2022].\n",
        "\n",
        "Vous allez tester un MLP pour faire la tâche de classification des 35 mots, en utilisant Pytorch.\n",
        "\n",
        "**Partie 0**\n",
        " - Compléter les cellules de code qui seront utiles pour toute la suite.\n",
        "\n",
        "**Partie 1**\n",
        "\n",
        " - Entraîner un MLP contenant une seule couche cachée linéaire de 100 neurones suivie d'une fonction d'activation ReLU et d'une couche linéaire de sortie.\n",
        " - Mettre un critère d'arrêt dans la boucle d'apprentissage sur la loss calculée à chaque epoch sur **Valid**.\n",
        " - Vous devez obtenir une performance proche de 90 % de précision (accuracy) sur Test, après apprentissage.\n",
        "\n",
        "**Partie 2**\n",
        "\n",
        " - Même chose mais cette fois-ci, commencer par faire une réduction de dimensions à l'aide d'une analyse en composantes principales, en utilisant l'objet `PCA` de `sklearn.decomposition`. Choisir le nombre de composantes qui donne une variance expliquée la plus proche possible de 90%.\n",
        "\n",
        "\n"
      ]
    },
    {
      "cell_type": "code",
      "execution_count": 1,
      "metadata": {
        "id": "a91N1GKr3d-A"
      },
      "outputs": [],
      "source": [
        "from os.path import join\n",
        "\n",
        "import numpy as np\n",
        "\n",
        "import matplotlib.pyplot as plt\n",
        "from matplotlib import cm\n",
        "\n",
        "from sklearn.decomposition import PCA\n",
        "\n",
        "import torch\n",
        "import torch.nn as nn\n",
        "import torch.optim as optim\n",
        "from torch.utils.data import Dataset\n",
        "from torch.utils.data import TensorDataset, DataLoader\n",
        "\n",
        "# import torchsummary\n",
        "import tqdm\n",
        "import math\n",
        "\n",
        "from sklearn.preprocessing import StandardScaler\n",
        "from sklearn.metrics import confusion_matrix, ConfusionMatrixDisplay"
      ]
    },
    {
      "cell_type": "code",
      "execution_count": 2,
      "metadata": {
        "colab": {
          "base_uri": "https://localhost:8080/"
        },
        "id": "pdSpmpWe3d-C",
        "outputId": "fc2bb408-26c1-498e-cf24-8fef2b7d4149"
      },
      "outputs": [
        {
          "output_type": "stream",
          "name": "stdout",
          "text": [
            "--2025-04-11 09:46:18--  https://www.irit.fr/~Thomas.Pellegrini/ens/M1ML1/speech_768d_TP_M1.zip\n",
            "Resolving www.irit.fr (www.irit.fr)... 141.115.28.2\n",
            "Connecting to www.irit.fr (www.irit.fr)|141.115.28.2|:443... connected.\n",
            "HTTP request sent, awaiting response... 200 OK\n",
            "Length: 59691330 (57M) [application/zip]\n",
            "Saving to: ‘speech_768d_TP_M1.zip’\n",
            "\n",
            "speech_768d_TP_M1.z 100%[===================>]  56.93M  2.04MB/s    in 34s     \n",
            "\n",
            "2025-04-11 09:46:53 (1.67 MB/s) - ‘speech_768d_TP_M1.zip’ saved [59691330/59691330]\n",
            "\n",
            "replace data/speech_768d_y_train_10_seed_42.npy? [y]es, [n]o, [A]ll, [N]one, [r]ename: A\n"
          ]
        }
      ],
      "source": [
        "! wget https://www.irit.fr/~Thomas.Pellegrini/ens/M1ML1/speech_768d_TP_M1.zip\n",
        "! unzip -q speech_768d_TP_M1.zip\n",
        "! rm speech_768d_TP_M1.zip"
      ]
    },
    {
      "cell_type": "code",
      "execution_count": 3,
      "metadata": {
        "colab": {
          "base_uri": "https://localhost:8080/"
        },
        "id": "PNa6vNdC3d-C",
        "outputId": "19e334fc-8b13-4cad-b766-e2466168bfad"
      },
      "outputs": [
        {
          "output_type": "stream",
          "name": "stdout",
          "text": [
            "35\n"
          ]
        }
      ],
      "source": [
        "DATA_DIR = \"data\"\n",
        "\n",
        "COMMANDS = ['backward',\n",
        " 'bed',\n",
        " 'bird',\n",
        " 'cat',\n",
        " 'dog',\n",
        " 'down',\n",
        " 'eight',\n",
        " 'five',\n",
        " 'follow',\n",
        " 'forward',\n",
        " 'four',\n",
        " 'go',\n",
        " 'happy',\n",
        " 'house',\n",
        " 'learn',\n",
        " 'left',\n",
        " 'marvin',\n",
        " 'nine',\n",
        " 'no',\n",
        " 'off',\n",
        " 'on',\n",
        " 'one',\n",
        " 'right',\n",
        " 'seven',\n",
        " 'sheila',\n",
        " 'six',\n",
        " 'stop',\n",
        " 'three',\n",
        " 'tree',\n",
        " 'two',\n",
        " 'up',\n",
        " 'visual',\n",
        " 'wow',\n",
        " 'yes',\n",
        " 'zero']\n",
        "\n",
        "nb_classes = len(COMMANDS)\n",
        "print(nb_classes)"
      ]
    },
    {
      "cell_type": "code",
      "execution_count": 4,
      "metadata": {
        "colab": {
          "base_uri": "https://localhost:8080/"
        },
        "id": "ejmyDHMt3d-D",
        "outputId": "64d48309-2173-4c9a-bb20-3b47b4210c41"
      },
      "outputs": [
        {
          "output_type": "stream",
          "name": "stdout",
          "text": [
            "Penser à activer le GPU, et exécuter à nouveau cette cellule !\n"
          ]
        }
      ],
      "source": [
        "device = torch.device('cuda:0' if torch.cuda.is_available() else 'cpu')\n",
        "\n",
        "# Assuming that we are on a CUDA machine, this should print a CUDA device:\n",
        "if torch.cuda.is_available():\n",
        "    print(\"Vous utilisez un GPU, c'est parfait :\", torch.cuda.get_device_name(device=device))\n",
        "else:\n",
        "    print(\"Penser à activer le GPU, et exécuter à nouveau cette cellule !\")"
      ]
    },
    {
      "cell_type": "code",
      "execution_count": 5,
      "metadata": {
        "colab": {
          "base_uri": "https://localhost:8080/"
        },
        "id": "iknXReyW3d-D",
        "outputId": "ef986d47-6667-4d42-ea5f-2199cfcf41e2"
      },
      "outputs": [
        {
          "output_type": "stream",
          "name": "stdout",
          "text": [
            "Train subset size:  (350, 768) (350,)\n",
            "Validation subset size:  (9981, 768) (9981,)\n",
            "Test subset size:  (11005, 768) (11005,)\n"
          ]
        }
      ],
      "source": [
        "# Chargement des données en array numpy\n",
        "\n",
        "X_train = np.load(join(DATA_DIR, \"speech_768d_X_train_10_seed_42.npy\"))\n",
        "y_train = np.load(join(DATA_DIR, \"speech_768d_y_train_10_seed_42.npy\"))\n",
        "\n",
        "X_valid = np.load(join(DATA_DIR, \"speech_768d_X_valid.npy\"))\n",
        "y_valid = np.load(join(DATA_DIR, \"speech_768d_y_valid.npy\"))\n",
        "\n",
        "X_test = np.load(join(DATA_DIR, \"speech_768d_X_test.npy\"))\n",
        "y_test = np.load(join(DATA_DIR, \"speech_768d_y_test.npy\"))\n",
        "\n",
        "print(\"Train subset size: \", X_train.shape, y_train.shape)\n",
        "print(\"Validation subset size: \", X_valid.shape, y_valid.shape)\n",
        "print(\"Test subset size: \", X_test.shape, y_test.shape)\n",
        "\n",
        "# Les données X sont des matrices de taille (nb_samples, dimension des représentations)\n",
        "# Les labels associés sont des entiers entre 0 et nb_classes-1"
      ]
    },
    {
      "cell_type": "code",
      "execution_count": 6,
      "metadata": {
        "colab": {
          "base_uri": "https://localhost:8080/"
        },
        "id": "-PB5yFsp3d-D",
        "outputId": "cb6e092e-cdd9-445d-dd7e-b606af7ec26e"
      },
      "outputs": [
        {
          "output_type": "stream",
          "name": "stdout",
          "text": [
            "Train subset size:  torch.Size([350, 768]) torch.Size([350])\n",
            "Validation subset size:  torch.Size([9981, 768]) torch.Size([9981])\n",
            "Test subset size:  torch.Size([11005, 768]) torch.Size([11005])\n"
          ]
        }
      ],
      "source": [
        "# Conversion en tensors PyTorch\n",
        "\n",
        "X_train = torch.tensor(X_train, dtype=torch.float32).to(device)\n",
        "y_train = torch.tensor(y_train, dtype=torch.long).to(device)\n",
        "\n",
        "X_valid = torch.tensor(X_valid, dtype=torch.float32).to(device)\n",
        "y_valid = torch.tensor(y_valid, dtype=torch.long).to(device)\n",
        "\n",
        "X_test = torch.tensor(X_test, dtype=torch.float32).to(device)\n",
        "y_test = torch.tensor(y_test, dtype=torch.long).to(device)\n",
        "\n",
        "print(\"Train subset size: \", X_train.size(), y_train.size())\n",
        "print(\"Validation subset size: \", X_valid.size(), y_valid.size())\n",
        "print(\"Test subset size: \", X_test.size(), y_test.size())"
      ]
    },
    {
      "cell_type": "markdown",
      "metadata": {
        "id": "WaxFtdt43d-D"
      },
      "source": [
        "Dans la cellule suivante, la classe `speechDataset`, qui hérite de `Dataset`, vous permettra d'instancier plus tard les jeux de train, valid et test, et de créer des dataloaders associés. Pas de code à ajouter ici."
      ]
    },
    {
      "cell_type": "code",
      "execution_count": 7,
      "metadata": {
        "id": "_GVWrCQT3d-E"
      },
      "outputs": [],
      "source": [
        "class speechDataset(Dataset):\n",
        "    def __init__(self, X, y):\n",
        "        self.X = X\n",
        "        self.y = y\n",
        "\n",
        "    def __len__(self):\n",
        "        return len(self.y)\n",
        "\n",
        "    def __getitem__(self, idx):\n",
        "        return self.X[idx], self.y[idx]"
      ]
    },
    {
      "cell_type": "markdown",
      "metadata": {
        "id": "uHl1c-SR3d-E"
      },
      "source": [
        "# Partie 0 : code à compléter, utile aux deux parties suivantes du TP"
      ]
    },
    {
      "cell_type": "markdown",
      "metadata": {
        "id": "a-2AFXvn3d-E"
      },
      "source": [
        "Objectifs :\n",
        "\n",
        "Définir des objets et fonctions qui seront utilisés dans les parties suivantes :\n",
        "\n",
        " - Un modèle `MLP` un peu flexible\n",
        " - Une fonction `get_accuracy()` pour tester un modèle\n",
        " - Une fonction `train()` pour réaliser la boucle d'apprentissage.\n",
        "\n",
        " -------------------------------------------------------------------------------------------------------------"
      ]
    },
    {
      "cell_type": "markdown",
      "metadata": {
        "id": "R6yv9rCQ3d-F"
      },
      "source": [
        "Dans la cellule suivante, définir un MLP contenant :\n",
        " - une seule couche cachée de 100 neurones suivi de la fonction d'activation ReLU,\n",
        " - une couche Dropout à 20%, voir [https://pytorch.org/docs/stable/generated/torch.nn.Dropout.html](https://pytorch.org/docs/stable/generated/torch.nn.Dropout.html)\n",
        " - une couche de sortie linéaire avec le nombre de neurones nécessaire pour faire la tâche de classification.\n",
        "\n",
        "Cet objet sera utilisé dans les trois parties du TP."
      ]
    },
    {
      "cell_type": "code",
      "execution_count": 8,
      "metadata": {
        "id": "deQayLUn3d-F"
      },
      "outputs": [],
      "source": [
        "class MLP(nn.Module):\n",
        "    def __init__(self, input_dim=768, hidden_dim=100, output_dim=nb_classes, dropout_rate=0.2):\n",
        "        super(MLP, self).__init__()\n",
        "        self.model = nn.Sequential(\n",
        "            nn.Linear(input_dim, hidden_dim),\n",
        "            nn.ReLU(),\n",
        "            nn.Dropout(dropout_rate),\n",
        "            nn.Linear(hidden_dim, output_dim)\n",
        "        )\n",
        "\n",
        "    def forward(self, x):\n",
        "        return self.model(x)\n"
      ]
    },
    {
      "cell_type": "markdown",
      "metadata": {
        "id": "joAXXOko3d-F"
      },
      "source": [
        "\n",
        "Compléter la fonction `get_accuracy()` :\n",
        "\n",
        " - Cette fonction réalise des prédictions avec le modèle **en mode eval** sur un dataloader passé en argument.\n",
        " - elle retourne l'accuracy (taux de bonne classification).\n",
        " - Penser à utiliser l'instruction `with torch.no_grad():`\n",
        " - Penser à transférer les features et labels des mini-batchs sur le `device`."
      ]
    },
    {
      "cell_type": "code",
      "execution_count": 9,
      "metadata": {
        "id": "lwIpLjjQ3d-F"
      },
      "outputs": [],
      "source": [
        "def get_accuracy(model, device, dataloader, return_loss=False):\n",
        "    model.eval()\n",
        "    correct = 0\n",
        "    total = 0\n",
        "    total_loss = 0\n",
        "    criterion = nn.CrossEntropyLoss()\n",
        "\n",
        "    with torch.no_grad():\n",
        "        for X_batch, y_batch in dataloader:\n",
        "            X_batch, y_batch = X_batch.to(device), y_batch.to(device)\n",
        "            outputs = model(X_batch)\n",
        "            loss = criterion(outputs, y_batch)\n",
        "\n",
        "            total_loss += loss.item()\n",
        "            _, predicted = torch.max(outputs, 1)\n",
        "            correct += (predicted == y_batch).sum().item()\n",
        "            total += y_batch.size(0)\n",
        "\n",
        "    accuracy = correct / total\n",
        "    avg_loss = total_loss / len(dataloader)\n",
        "\n",
        "    return (avg_loss, accuracy) if return_loss else accuracy\n"
      ]
    },
    {
      "cell_type": "markdown",
      "metadata": {
        "id": "BYzpzlhz3d-F"
      },
      "source": [
        "Compléter la fonction `train()` :\n",
        "- Utiliser l'optimiseur Adam\n",
        "- Calculer une loss (à vous de bien choisir laquelle utiliser) et une accuracy (taux de bonne classification) moyennes par epoch : sur **Train** et sur **Valid**.\n",
        "- Actualiser une variable `best_valid_loss` si la loss sur **Valid** s'améliore.\n",
        "- Mettre un critère d'arrêt dans la boucle d'apprentissage sur la loss calculée à chaque epoch sur **Valid** : si la loss sur **Valid** n'est pas meilleure que `best_valid_loss` sur 5 epochs consécutives, arrêter la boucle d'apprentissage."
      ]
    },
    {
      "cell_type": "code",
      "execution_count": 10,
      "metadata": {
        "id": "xp03Uqh33d-F"
      },
      "outputs": [],
      "source": [
        "def train(device, model, train_dataloader, valid_dataloader, weight_decay=0.0,\n",
        "          learning_rate=0.001, num_epochs=200):\n",
        "\n",
        "    criterion = nn.CrossEntropyLoss()\n",
        "    optimizer = optim.Adam(model.parameters(), lr=learning_rate, weight_decay=weight_decay)\n",
        "\n",
        "    best_valid_loss = float('inf')\n",
        "    patience = 5\n",
        "    patience_counter = 0\n",
        "\n",
        "    train_losses = []\n",
        "    valid_losses = []\n",
        "    train_accuracies = []\n",
        "    valid_accuracies = []\n",
        "\n",
        "    for epoch in range(num_epochs):\n",
        "        model.train()\n",
        "        total_loss = 0\n",
        "        correct = 0\n",
        "        total = 0\n",
        "\n",
        "        for X_batch, y_batch in train_dataloader:\n",
        "            X_batch, y_batch = X_batch.to(device), y_batch.to(device)\n",
        "\n",
        "            optimizer.zero_grad()\n",
        "            outputs = model(X_batch)\n",
        "            loss = criterion(outputs, y_batch)\n",
        "            loss.backward()\n",
        "            optimizer.step()\n",
        "\n",
        "            total_loss += loss.item()\n",
        "            _, predicted = torch.max(outputs, 1)\n",
        "            correct += (predicted == y_batch).sum().item()\n",
        "            total += y_batch.size(0)\n",
        "\n",
        "        train_loss = total_loss / len(train_dataloader)\n",
        "        train_acc = correct / total\n",
        "\n",
        "        valid_loss, valid_acc = get_accuracy(model, device, valid_dataloader, return_loss=True)\n",
        "\n",
        "        train_losses.append(train_loss)\n",
        "        valid_losses.append(valid_loss)\n",
        "        train_accuracies.append(train_acc)\n",
        "        valid_accuracies.append(valid_acc)\n",
        "\n",
        "        print(f\"Epoch {epoch+1} | Train Loss: {train_loss:.4f} | Valid Loss: {valid_loss:.4f} | \"\n",
        "              f\"Train Acc: {train_acc:.4f} | Valid Acc: {valid_acc:.4f}\")\n",
        "\n",
        "        if valid_loss < best_valid_loss:\n",
        "            best_valid_loss = valid_loss\n",
        "            patience_counter = 0\n",
        "        else:\n",
        "            patience_counter += 1\n",
        "            if patience_counter >= patience:\n",
        "                print(f\"Early stopping at epoch {epoch+1}\")\n",
        "                break\n",
        "\n",
        "    return train_losses, valid_losses, train_accuracies, valid_accuracies\n"
      ]
    },
    {
      "cell_type": "markdown",
      "metadata": {
        "id": "5sNegBXy3d-G"
      },
      "source": [
        "## Questions Partie 0 : répondre sous chaque question.\n",
        "\n",
        " - À quoi servent les instructions `model.eval()` et `model.train()` ?\n",
        "\n",
        " - À quoi sert l'instruction `with torch.no_grad():` ?\n",
        "\n",
        " - À quoi sert le fait de transférer les features et labels des mini-batchs sur le `device` ? Que se passe-t-il si on oublie de le faire ?"
      ]
    },
    {
      "cell_type": "markdown",
      "source": [
        "### Partie 0 : Questions\n",
        "\n",
        "---\n",
        "\n",
        "**À quoi servent les instructions `model.eval()` et `model.train()` ?**\n",
        "\n",
        "- `model.train()` active le mode entraînement du modèle. Cela permet notamment à certains modules comme `Dropout` ou `BatchNorm` de se comporter correctement : par exemple, `Dropout` masque aléatoirement des neurones à chaque passage pour régulariser l'apprentissage.\n",
        "- `model.eval()` active le mode évaluation. Il désactive certains comportements spécifiques à l'entraînement (comme le `Dropout`), pour que les prédictions soient stables et fiables lors de la validation ou du test.\n",
        "\n",
        "---\n",
        "\n",
        "**À quoi sert l'instruction `with torch.no_grad():` ?**\n",
        "\n",
        "- Cette instruction désactive la construction du graphe computationnel (autograd), ce qui signifie que PyTorch ne garde pas en mémoire les opérations effectuées pour le calcul du gradient.\n",
        "- On l’utilise pendant la validation ou le test, car on n’a **pas besoin de rétropropagation**, ce qui rend le code **plus rapide et moins gourmand en mémoire**.\n",
        "\n",
        "---\n",
        "\n",
        "**À quoi sert le fait de transférer les features et labels des mini-batchs sur\n",
        "le device ? Que se passe-t-il si on oublie de le faire ?**\n",
        "\n",
        "- En transférant les features et labels sur le même `device` (CPU ou GPU) que le modèle, on s’assure que les calculs peuvent être faits correctement.\n",
        "- Si on oublie de le faire, cela provoque une **erreur d’exécution** : PyTorch ne peut pas effectuer des opérations entre des tenseurs situés sur des devices différents.\n",
        "\n",
        "---\n"
      ],
      "metadata": {
        "id": "eDAuZ7OA7qMM"
      }
    },
    {
      "cell_type": "markdown",
      "source": [],
      "metadata": {
        "id": "bKDBdWlM7Srv"
      }
    },
    {
      "cell_type": "markdown",
      "metadata": {
        "id": "2Z5Z8uaJ3d-G"
      },
      "source": [
        "# Partie 1 : MLP sur les données de dimension 768\n",
        "\n",
        "Objectifs :\n",
        "\n",
        "- Entraîner un MLP sur les 350 exemples de **Train** de dimension 768.\n",
        "\n",
        "- Vous devez obtenir une performance proche de 90 % de précision (accuracy) sur Test, après apprentissage."
      ]
    },
    {
      "cell_type": "markdown",
      "metadata": {
        "id": "btvy536Z3d-G"
      },
      "source": [
        "Consignes cellule suivante :\n",
        "\n",
        " - Instancier trois datasets en utilisant la classe speechDataset pour les trois subsets : train, valid et test.\n",
        "\n",
        " - Instancier trois dataloaders avec une taille de mini-batch de 64 exemples pour train, 256 pour valid et test."
      ]
    },
    {
      "cell_type": "code",
      "execution_count": 11,
      "metadata": {
        "colab": {
          "base_uri": "https://localhost:8080/"
        },
        "id": "OuLZYQAj3d-G",
        "outputId": "1a45f2d9-2ebc-41fd-a95f-b4bfff10040b"
      },
      "outputs": [
        {
          "output_type": "stream",
          "name": "stdout",
          "text": [
            "✓ Datasets créés avec succès.\n"
          ]
        }
      ],
      "source": [
        "train_dataset = speechDataset(X_train, y_train)\n",
        "valid_dataset = speechDataset(X_valid, y_valid)\n",
        "test_dataset  = speechDataset(X_test, y_test)\n",
        "\n",
        "print(\"✓ Datasets créés avec succès.\")"
      ]
    },
    {
      "cell_type": "code",
      "source": [
        "train_loader = torch.utils.data.DataLoader(train_dataset, batch_size=64, shuffle=True)\n",
        "valid_loader = torch.utils.data.DataLoader(valid_dataset, batch_size=256, shuffle=False)\n",
        "test_loader  = torch.utils.data.DataLoader(test_dataset, batch_size=256, shuffle=False)\n",
        "\n",
        "print(\"✓ DataLoaders créés avec succès.\")"
      ],
      "metadata": {
        "colab": {
          "base_uri": "https://localhost:8080/"
        },
        "id": "aog1mY8U800F",
        "outputId": "f6c084c2-1a26-4714-b653-1ec1616f82e8"
      },
      "execution_count": 12,
      "outputs": [
        {
          "output_type": "stream",
          "name": "stdout",
          "text": [
            "✓ DataLoaders créés avec succès.\n"
          ]
        }
      ]
    },
    {
      "cell_type": "markdown",
      "metadata": {
        "id": "-XsGxzc13d-G"
      },
      "source": [
        " Consignes cellule suivante :\n",
        " - Instancier un MLP et le mettre sur `device`\n",
        " - Entraîner le modèle sur 200 epochs maximum\n",
        " - Dans une même figure, tracer les courbes de loss **Train** et **Valid** dans un subplot et celles d'accuracy dans un autre subplot."
      ]
    },
    {
      "cell_type": "code",
      "execution_count": 13,
      "metadata": {
        "colab": {
          "base_uri": "https://localhost:8080/"
        },
        "id": "WV5-9JUa3d-G",
        "outputId": "67c9d2e3-d550-4eb3-a90c-f4b82fa45a47"
      },
      "outputs": [
        {
          "output_type": "stream",
          "name": "stdout",
          "text": [
            "Modèle MLP envoyé sur : cpu\n"
          ]
        }
      ],
      "source": [
        "# Instanciation du MLP\n",
        "model = MLP().to(device)\n",
        "\n",
        "print(\"Modèle MLP envoyé sur :\", device)\n"
      ]
    },
    {
      "cell_type": "code",
      "source": [
        "# Entraînement du modèle sur 100 epochs\n",
        "train_losses, valid_losses, train_accuracies, valid_accuracies = train(\n",
        "    device=device,\n",
        "    model=model,\n",
        "    train_dataloader=train_loader,\n",
        "    valid_dataloader=valid_loader,\n",
        "    weight_decay=0.0,\n",
        "    learning_rate=0.001,\n",
        "    num_epochs=100\n",
        ")\n"
      ],
      "metadata": {
        "colab": {
          "base_uri": "https://localhost:8080/"
        },
        "id": "SHYyU-E3-SLq",
        "outputId": "766467ca-276f-48f7-d3f3-7d91e8b41a89"
      },
      "execution_count": 14,
      "outputs": [
        {
          "output_type": "stream",
          "name": "stdout",
          "text": [
            "Epoch 1 | Train Loss: 3.5529 | Valid Loss: 3.5283 | Train Acc: 0.0400 | Valid Acc: 0.0813\n",
            "Epoch 2 | Train Loss: 3.5093 | Valid Loss: 3.4971 | Train Acc: 0.0914 | Valid Acc: 0.1260\n",
            "Epoch 3 | Train Loss: 3.4706 | Valid Loss: 3.4620 | Train Acc: 0.1857 | Valid Acc: 0.2497\n",
            "Epoch 4 | Train Loss: 3.4288 | Valid Loss: 3.4213 | Train Acc: 0.2800 | Valid Acc: 0.3176\n",
            "Epoch 5 | Train Loss: 3.3791 | Valid Loss: 3.3780 | Train Acc: 0.4000 | Valid Acc: 0.4395\n",
            "Epoch 6 | Train Loss: 3.3336 | Valid Loss: 3.3285 | Train Acc: 0.4943 | Valid Acc: 0.5181\n",
            "Epoch 7 | Train Loss: 3.2559 | Valid Loss: 3.2723 | Train Acc: 0.5829 | Valid Acc: 0.5743\n",
            "Epoch 8 | Train Loss: 3.1865 | Valid Loss: 3.2097 | Train Acc: 0.6086 | Valid Acc: 0.6055\n",
            "Epoch 9 | Train Loss: 3.1194 | Valid Loss: 3.1410 | Train Acc: 0.6171 | Valid Acc: 0.6213\n",
            "Epoch 10 | Train Loss: 3.0493 | Valid Loss: 3.0677 | Train Acc: 0.6343 | Valid Acc: 0.6527\n",
            "Epoch 11 | Train Loss: 2.9499 | Valid Loss: 2.9868 | Train Acc: 0.6886 | Valid Acc: 0.6866\n",
            "Epoch 12 | Train Loss: 2.8456 | Valid Loss: 2.8971 | Train Acc: 0.7171 | Valid Acc: 0.7276\n",
            "Epoch 13 | Train Loss: 2.7597 | Valid Loss: 2.8055 | Train Acc: 0.7057 | Valid Acc: 0.7471\n",
            "Epoch 14 | Train Loss: 2.6583 | Valid Loss: 2.7092 | Train Acc: 0.7543 | Valid Acc: 0.7629\n",
            "Epoch 15 | Train Loss: 2.5512 | Valid Loss: 2.6084 | Train Acc: 0.7371 | Valid Acc: 0.7704\n",
            "Epoch 16 | Train Loss: 2.4372 | Valid Loss: 2.5111 | Train Acc: 0.7714 | Valid Acc: 0.7836\n",
            "Epoch 17 | Train Loss: 2.3253 | Valid Loss: 2.4102 | Train Acc: 0.7971 | Valid Acc: 0.7946\n",
            "Epoch 18 | Train Loss: 2.2521 | Valid Loss: 2.3072 | Train Acc: 0.7771 | Valid Acc: 0.8014\n",
            "Epoch 19 | Train Loss: 2.1309 | Valid Loss: 2.2107 | Train Acc: 0.7971 | Valid Acc: 0.8122\n",
            "Epoch 20 | Train Loss: 2.0335 | Valid Loss: 2.1142 | Train Acc: 0.8057 | Valid Acc: 0.8127\n",
            "Epoch 21 | Train Loss: 1.9119 | Valid Loss: 2.0143 | Train Acc: 0.8400 | Valid Acc: 0.8147\n",
            "Epoch 22 | Train Loss: 1.8009 | Valid Loss: 1.9233 | Train Acc: 0.8343 | Valid Acc: 0.8201\n",
            "Epoch 23 | Train Loss: 1.7016 | Valid Loss: 1.8288 | Train Acc: 0.8314 | Valid Acc: 0.8264\n",
            "Epoch 24 | Train Loss: 1.6428 | Valid Loss: 1.7388 | Train Acc: 0.8400 | Valid Acc: 0.8284\n",
            "Epoch 25 | Train Loss: 1.5320 | Valid Loss: 1.6574 | Train Acc: 0.8171 | Valid Acc: 0.8334\n",
            "Epoch 26 | Train Loss: 1.4576 | Valid Loss: 1.5809 | Train Acc: 0.8257 | Valid Acc: 0.8377\n",
            "Epoch 27 | Train Loss: 1.3671 | Valid Loss: 1.5061 | Train Acc: 0.8714 | Valid Acc: 0.8411\n",
            "Epoch 28 | Train Loss: 1.3141 | Valid Loss: 1.4368 | Train Acc: 0.8743 | Valid Acc: 0.8462\n",
            "Epoch 29 | Train Loss: 1.2323 | Valid Loss: 1.3740 | Train Acc: 0.8657 | Valid Acc: 0.8511\n",
            "Epoch 30 | Train Loss: 1.1523 | Valid Loss: 1.3175 | Train Acc: 0.8829 | Valid Acc: 0.8527\n",
            "Epoch 31 | Train Loss: 1.1105 | Valid Loss: 1.2635 | Train Acc: 0.8457 | Valid Acc: 0.8584\n",
            "Epoch 32 | Train Loss: 1.0512 | Valid Loss: 1.2126 | Train Acc: 0.8829 | Valid Acc: 0.8655\n",
            "Epoch 33 | Train Loss: 1.0153 | Valid Loss: 1.1592 | Train Acc: 0.8914 | Valid Acc: 0.8716\n",
            "Epoch 34 | Train Loss: 0.9871 | Valid Loss: 1.1115 | Train Acc: 0.8857 | Valid Acc: 0.8753\n",
            "Epoch 35 | Train Loss: 0.9066 | Valid Loss: 1.0704 | Train Acc: 0.9029 | Valid Acc: 0.8759\n",
            "Epoch 36 | Train Loss: 0.9101 | Valid Loss: 1.0298 | Train Acc: 0.8971 | Valid Acc: 0.8763\n",
            "Epoch 37 | Train Loss: 0.8394 | Valid Loss: 0.9966 | Train Acc: 0.9114 | Valid Acc: 0.8775\n",
            "Epoch 38 | Train Loss: 0.8464 | Valid Loss: 0.9689 | Train Acc: 0.8886 | Valid Acc: 0.8806\n",
            "Epoch 39 | Train Loss: 0.7870 | Valid Loss: 0.9353 | Train Acc: 0.9086 | Valid Acc: 0.8840\n",
            "Epoch 40 | Train Loss: 0.7192 | Valid Loss: 0.8979 | Train Acc: 0.9057 | Valid Acc: 0.8857\n",
            "Epoch 41 | Train Loss: 0.6754 | Valid Loss: 0.8695 | Train Acc: 0.9286 | Valid Acc: 0.8868\n",
            "Epoch 42 | Train Loss: 0.7003 | Valid Loss: 0.8480 | Train Acc: 0.9314 | Valid Acc: 0.8873\n",
            "Epoch 43 | Train Loss: 0.6683 | Valid Loss: 0.8319 | Train Acc: 0.9171 | Valid Acc: 0.8868\n",
            "Epoch 44 | Train Loss: 0.6233 | Valid Loss: 0.8111 | Train Acc: 0.9343 | Valid Acc: 0.8885\n",
            "Epoch 45 | Train Loss: 0.6019 | Valid Loss: 0.7881 | Train Acc: 0.9314 | Valid Acc: 0.8895\n",
            "Epoch 46 | Train Loss: 0.5947 | Valid Loss: 0.7649 | Train Acc: 0.9371 | Valid Acc: 0.8921\n",
            "Epoch 47 | Train Loss: 0.5552 | Valid Loss: 0.7412 | Train Acc: 0.9457 | Valid Acc: 0.8947\n",
            "Epoch 48 | Train Loss: 0.5347 | Valid Loss: 0.7226 | Train Acc: 0.9343 | Valid Acc: 0.8951\n",
            "Epoch 49 | Train Loss: 0.5258 | Valid Loss: 0.7050 | Train Acc: 0.9486 | Valid Acc: 0.8959\n",
            "Epoch 50 | Train Loss: 0.5181 | Valid Loss: 0.6928 | Train Acc: 0.9429 | Valid Acc: 0.8966\n",
            "Epoch 51 | Train Loss: 0.4735 | Valid Loss: 0.6784 | Train Acc: 0.9514 | Valid Acc: 0.8977\n",
            "Epoch 52 | Train Loss: 0.4638 | Valid Loss: 0.6676 | Train Acc: 0.9429 | Valid Acc: 0.8985\n",
            "Epoch 53 | Train Loss: 0.4597 | Valid Loss: 0.6550 | Train Acc: 0.9514 | Valid Acc: 0.8992\n",
            "Epoch 54 | Train Loss: 0.4534 | Valid Loss: 0.6401 | Train Acc: 0.9543 | Valid Acc: 0.8994\n",
            "Epoch 55 | Train Loss: 0.4336 | Valid Loss: 0.6238 | Train Acc: 0.9486 | Valid Acc: 0.9018\n",
            "Epoch 56 | Train Loss: 0.4332 | Valid Loss: 0.6110 | Train Acc: 0.9514 | Valid Acc: 0.9010\n",
            "Epoch 57 | Train Loss: 0.4152 | Valid Loss: 0.6054 | Train Acc: 0.9514 | Valid Acc: 0.8979\n",
            "Epoch 58 | Train Loss: 0.3840 | Valid Loss: 0.5964 | Train Acc: 0.9629 | Valid Acc: 0.8995\n",
            "Epoch 59 | Train Loss: 0.4035 | Valid Loss: 0.5831 | Train Acc: 0.9400 | Valid Acc: 0.9029\n",
            "Epoch 60 | Train Loss: 0.3526 | Valid Loss: 0.5746 | Train Acc: 0.9686 | Valid Acc: 0.9051\n",
            "Epoch 61 | Train Loss: 0.3697 | Valid Loss: 0.5658 | Train Acc: 0.9571 | Valid Acc: 0.9050\n",
            "Epoch 62 | Train Loss: 0.3829 | Valid Loss: 0.5559 | Train Acc: 0.9657 | Valid Acc: 0.9060\n",
            "Epoch 63 | Train Loss: 0.3140 | Valid Loss: 0.5523 | Train Acc: 0.9743 | Valid Acc: 0.9035\n",
            "Epoch 64 | Train Loss: 0.3391 | Valid Loss: 0.5468 | Train Acc: 0.9600 | Valid Acc: 0.9030\n",
            "Epoch 65 | Train Loss: 0.3016 | Valid Loss: 0.5405 | Train Acc: 0.9686 | Valid Acc: 0.9034\n",
            "Epoch 66 | Train Loss: 0.3058 | Valid Loss: 0.5314 | Train Acc: 0.9714 | Valid Acc: 0.9047\n",
            "Epoch 67 | Train Loss: 0.3024 | Valid Loss: 0.5197 | Train Acc: 0.9657 | Valid Acc: 0.9081\n",
            "Epoch 68 | Train Loss: 0.3001 | Valid Loss: 0.5126 | Train Acc: 0.9771 | Valid Acc: 0.9095\n",
            "Epoch 69 | Train Loss: 0.2561 | Valid Loss: 0.5056 | Train Acc: 0.9829 | Valid Acc: 0.9091\n",
            "Epoch 70 | Train Loss: 0.2959 | Valid Loss: 0.4996 | Train Acc: 0.9743 | Valid Acc: 0.9080\n",
            "Epoch 71 | Train Loss: 0.2743 | Valid Loss: 0.4931 | Train Acc: 0.9743 | Valid Acc: 0.9083\n",
            "Epoch 72 | Train Loss: 0.2718 | Valid Loss: 0.4883 | Train Acc: 0.9657 | Valid Acc: 0.9076\n",
            "Epoch 73 | Train Loss: 0.2528 | Valid Loss: 0.4854 | Train Acc: 0.9743 | Valid Acc: 0.9077\n",
            "Epoch 74 | Train Loss: 0.2494 | Valid Loss: 0.4822 | Train Acc: 0.9686 | Valid Acc: 0.9073\n",
            "Epoch 75 | Train Loss: 0.2439 | Valid Loss: 0.4777 | Train Acc: 0.9829 | Valid Acc: 0.9077\n",
            "Epoch 76 | Train Loss: 0.2454 | Valid Loss: 0.4728 | Train Acc: 0.9743 | Valid Acc: 0.9079\n",
            "Epoch 77 | Train Loss: 0.2385 | Valid Loss: 0.4672 | Train Acc: 0.9657 | Valid Acc: 0.9096\n",
            "Epoch 78 | Train Loss: 0.2410 | Valid Loss: 0.4634 | Train Acc: 0.9829 | Valid Acc: 0.9091\n",
            "Epoch 79 | Train Loss: 0.2227 | Valid Loss: 0.4593 | Train Acc: 0.9857 | Valid Acc: 0.9093\n",
            "Epoch 80 | Train Loss: 0.2165 | Valid Loss: 0.4568 | Train Acc: 0.9857 | Valid Acc: 0.9091\n",
            "Epoch 81 | Train Loss: 0.1940 | Valid Loss: 0.4532 | Train Acc: 0.9886 | Valid Acc: 0.9090\n",
            "Epoch 82 | Train Loss: 0.2134 | Valid Loss: 0.4506 | Train Acc: 0.9771 | Valid Acc: 0.9088\n",
            "Epoch 83 | Train Loss: 0.1985 | Valid Loss: 0.4481 | Train Acc: 0.9914 | Valid Acc: 0.9079\n",
            "Epoch 84 | Train Loss: 0.1984 | Valid Loss: 0.4447 | Train Acc: 0.9886 | Valid Acc: 0.9088\n",
            "Epoch 85 | Train Loss: 0.2051 | Valid Loss: 0.4387 | Train Acc: 0.9743 | Valid Acc: 0.9096\n",
            "Epoch 86 | Train Loss: 0.2023 | Valid Loss: 0.4321 | Train Acc: 0.9800 | Valid Acc: 0.9121\n",
            "Epoch 87 | Train Loss: 0.1759 | Valid Loss: 0.4287 | Train Acc: 0.9886 | Valid Acc: 0.9123\n",
            "Epoch 88 | Train Loss: 0.1897 | Valid Loss: 0.4281 | Train Acc: 0.9857 | Valid Acc: 0.9111\n",
            "Epoch 89 | Train Loss: 0.1944 | Valid Loss: 0.4279 | Train Acc: 0.9771 | Valid Acc: 0.9102\n",
            "Epoch 90 | Train Loss: 0.1762 | Valid Loss: 0.4286 | Train Acc: 0.9800 | Valid Acc: 0.9095\n",
            "Epoch 91 | Train Loss: 0.1673 | Valid Loss: 0.4269 | Train Acc: 0.9943 | Valid Acc: 0.9090\n",
            "Epoch 92 | Train Loss: 0.1627 | Valid Loss: 0.4235 | Train Acc: 0.9943 | Valid Acc: 0.9100\n",
            "Epoch 93 | Train Loss: 0.1547 | Valid Loss: 0.4206 | Train Acc: 0.9914 | Valid Acc: 0.9099\n",
            "Epoch 94 | Train Loss: 0.1546 | Valid Loss: 0.4169 | Train Acc: 0.9971 | Valid Acc: 0.9102\n",
            "Epoch 95 | Train Loss: 0.1528 | Valid Loss: 0.4135 | Train Acc: 0.9971 | Valid Acc: 0.9106\n",
            "Epoch 96 | Train Loss: 0.1502 | Valid Loss: 0.4070 | Train Acc: 0.9857 | Valid Acc: 0.9121\n",
            "Epoch 97 | Train Loss: 0.1418 | Valid Loss: 0.4036 | Train Acc: 0.9886 | Valid Acc: 0.9122\n",
            "Epoch 98 | Train Loss: 0.1515 | Valid Loss: 0.4028 | Train Acc: 0.9886 | Valid Acc: 0.9116\n",
            "Epoch 99 | Train Loss: 0.1570 | Valid Loss: 0.4027 | Train Acc: 0.9829 | Valid Acc: 0.9111\n",
            "Epoch 100 | Train Loss: 0.1563 | Valid Loss: 0.4044 | Train Acc: 0.9914 | Valid Acc: 0.9098\n"
          ]
        }
      ]
    },
    {
      "cell_type": "code",
      "source": [
        "# Tracé des courbes de loss et d'accuracy sur 2 subplots\n",
        "fig, axes = plt.subplots(1, 2, figsize=(14, 5))\n",
        "\n",
        "# Subplot 1 : Loss\n",
        "axes[0].plot(train_losses, label='Train Loss')\n",
        "axes[0].plot(valid_losses, label='Valid Loss')\n",
        "axes[0].set_title(\"Loss par epoch\")\n",
        "axes[0].set_xlabel(\"Epoch\")\n",
        "axes[0].set_ylabel(\"Loss\")\n",
        "axes[0].legend()\n",
        "axes[0].grid(True)\n",
        "\n",
        "# Subplot 2 : Accuracy\n",
        "axes[1].plot(train_accuracies, label='Train Accuracy')\n",
        "axes[1].plot(valid_accuracies, label='Valid Accuracy')\n",
        "axes[1].set_title(\"Accuracy par epoch\")\n",
        "axes[1].set_xlabel(\"Epoch\")\n",
        "axes[1].set_ylabel(\"Accuracy\")\n",
        "axes[1].legend()\n",
        "axes[1].grid(True)\n",
        "\n",
        "plt.tight_layout()\n",
        "plt.show()\n"
      ],
      "metadata": {
        "colab": {
          "base_uri": "https://localhost:8080/",
          "height": 507
        },
        "id": "4r3C5XlI-d83",
        "outputId": "ace6a13f-85cd-4e00-d466-8b7f1739fa5b"
      },
      "execution_count": 15,
      "outputs": [
        {
          "output_type": "display_data",
          "data": {
            "text/plain": [
              "<Figure size 1400x500 with 2 Axes>"
            ],
            "image/png": "[encoded data removed]"
          },
          "metadata": {}
        }
      ]
    },
    {
      "cell_type": "markdown",
      "metadata": {
        "id": "DKLgTKIW3d-G"
      },
      "source": [
        "Calculer l'accuracy finale, après entraînement, sur les jeux de **Train**, **Valid** et **Test**."
      ]
    },
    {
      "cell_type": "code",
      "source": [
        "def evaluate_model(model, dataloader, device):\n",
        "    model.eval()\n",
        "    correct = 0\n",
        "    total = 0\n",
        "\n",
        "    with torch.no_grad():\n",
        "        for inputs, labels in dataloader:\n",
        "            inputs, labels = inputs.to(device), labels.to(device)\n",
        "            outputs = model(inputs)\n",
        "            _, preds = torch.max(outputs, 1)\n",
        "            correct += (preds == labels).sum().item()\n",
        "            total += labels.size(0)\n",
        "\n",
        "    accuracy = correct / total\n",
        "    return accuracy"
      ],
      "metadata": {
        "id": "XnHdehImAo2G"
      },
      "execution_count": 16,
      "outputs": []
    },
    {
      "cell_type": "code",
      "execution_count": 17,
      "metadata": {
        "colab": {
          "base_uri": "https://localhost:8080/"
        },
        "id": "SBZiv19C3d-H",
        "outputId": "3e0513e1-b127-48bf-8ecc-0ace6a036ed9"
      },
      "outputs": [
        {
          "output_type": "stream",
          "name": "stdout",
          "text": [
            "Final Train Accuracy: 1.0000\n",
            "Final Valid Accuracy: 0.9098\n",
            "Final Test Accuracy:  0.9065\n"
          ]
        }
      ],
      "source": [
        "train_acc_final = evaluate_model(model, train_loader, device)\n",
        "valid_acc_final = evaluate_model(model, valid_loader, device)\n",
        "test_acc_final = evaluate_model(model, test_loader, device)\n",
        "\n",
        "print(f\"Final Train Accuracy: {train_acc_final:.4f}\")\n",
        "print(f\"Final Valid Accuracy: {valid_acc_final:.4f}\")\n",
        "print(f\"Final Test Accuracy:  {test_acc_final:.4f}\")\n"
      ]
    },
    {
      "cell_type": "markdown",
      "source": [
        "#  Résultats finaux du modèle\n",
        "\n",
        "Après un entraînement sur **100 epochs**, voici les performances du modèle :\n",
        "\n",
        "##  Accuracy finale\n",
        "\n",
        "| Jeu de données | Accuracy |\n",
        "|----------------|----------|\n",
        "| **Train**       |  **100.00%** |\n",
        "| **Validation**  |  **90.98%**  |\n",
        "| **Test**        |  **90.65%**  |\n",
        "\n",
        "---\n",
        "\n",
        "##  Analyse\n",
        "\n",
        "- Le modèle atteint **100% de précision** sur le jeu d'entraînement.\n",
        "- L'écart entre **train**, **validation** et **test** est faible  \n",
        "   Cela montre une **bonne généralisation** du modèle.\n"
      ],
      "metadata": {
        "id": "2C9PuEnQBC0z"
      }
    },
    {
      "cell_type": "markdown",
      "metadata": {
        "id": "V5Nmu6oa3d-H"
      },
      "source": [
        "## Questions Partie 1 : répondre sous chaque question.\n",
        "\n",
        "- Combien d'epochs ont-elles été effectuées ?\n",
        "\n",
        "- Quels taux de bonne classification obtenez-vous sur **Train**, **Valid** et **Test** ?\n",
        "\n",
        "- Remarquez-vous du sur-apprentissage ? Justifier."
      ]
    },
    {
      "cell_type": "markdown",
      "source": [
        "\n",
        "---\n",
        "\n",
        "### 1. Combien d'epochs ont-elles été effectuées ?\n",
        "\n",
        "**100 epochs** ont été effectuées lors de l'entraînement du modèle.\n",
        "\n",
        "---\n",
        "\n",
        "### 2. Quels taux de bonne classification obtenez-vous sur Train, Valid et Test ?\n",
        "\n",
        "| Jeu de données | Accuracy |\n",
        "|----------------|----------|\n",
        "| **Train**       |  **100.00%** |\n",
        "| **Validation**  |  **90.98%**  |\n",
        "| **Test**        |  **90.65%**  |\n",
        "\n",
        "---\n",
        "\n",
        "### 3. Remarquez-vous du sur-apprentissage ? Justifier.\n",
        "\n",
        "**Non, il n’y a pas de sur-apprentissage significatif.**\n",
        "\n",
        "- Bien que le modèle atteigne **100% de précision sur le jeu d'entraînement**,  \n",
        "  les performances sur **Validation (90.98%)** et **Test (90.65%)** restent très élevées.\n",
        "- L’écart entre les accuracys est **faible (~9%)**, ce qui montre que le modèle **généralise bien**.\n",
        "- Si le modèle était en sur-apprentissage, on observerait une **chute importante de performance** sur le jeu de validation et de test, ce qui **n’est pas le cas ici**.\n",
        "\n",
        "> Conclusion : Le modèle est bien entraîné sans tomber dans le piège du sur-apprentissage.\n",
        "\n",
        "\n"
      ],
      "metadata": {
        "id": "ct_nQqnkBmX6"
      }
    },
    {
      "cell_type": "markdown",
      "metadata": {
        "id": "gMW7H3rC3d-H"
      },
      "source": [
        "# Partie 2 : Analyse en Composantes Principales (ACP)\n",
        "\n",
        "Objectifs :\n",
        " - Tester une technique de réduction de dimension (non-supervisée), ici l'ACP : [https://scikit-learn.org/stable/modules/generated/sklearn.decomposition.PCA.html](https://scikit-learn.org/stable/modules/generated/sklearn.decomposition.PCA.html)\n",
        " - Voir l'impact sur l'accuracy d'une réduction de dimension"
      ]
    },
    {
      "cell_type": "markdown",
      "metadata": {
        "id": "g7XnG4iN3d-H"
      },
      "source": [
        "Déterminer le nombre de composantes qui permettent de conserver au moins 90% de la variance des données initiales de **Train**."
      ]
    },
    {
      "cell_type": "code",
      "execution_count": 18,
      "metadata": {
        "colab": {
          "base_uri": "https://localhost:8080/",
          "height": 505
        },
        "id": "YIPDPL-83d-H",
        "outputId": "8956a162-10b9-4c18-e149-bd5274733e3b"
      },
      "outputs": [
        {
          "output_type": "display_data",
          "data": {
            "text/plain": [
              "<Figure size 800x500 with 1 Axes>"
            ],
            "image/png": "[encoded data removed]"
          },
          "metadata": {}
        },
        {
          "output_type": "stream",
          "name": "stdout",
          "text": [
            "Nombre de composantes nécessaires pour conserver 90% de la variance : 57\n"
          ]
        }
      ],
      "source": [
        "scaler = StandardScaler()\n",
        "X_train_scaled = scaler.fit_transform(X_train)\n",
        "\n",
        "# ACP sans réduction initiale pour voir la variance cumulée\n",
        "pca = PCA()\n",
        "pca.fit(X_train_scaled)\n",
        "\n",
        "# Variance expliquée cumulée\n",
        "cumulative_variance = np.cumsum(pca.explained_variance_ratio_)\n",
        "\n",
        "# Tracer la variance cumulée\n",
        "plt.figure(figsize=(8, 5))\n",
        "plt.plot(cumulative_variance, marker='o')\n",
        "plt.axhline(y=0.9, color='r', linestyle='--', label='90% de la variance')\n",
        "plt.xlabel('Nombre de composantes')\n",
        "plt.ylabel('Variance cumulée')\n",
        "plt.title('ACP - Variance expliquée cumulée')\n",
        "plt.grid(True)\n",
        "plt.legend()\n",
        "plt.show()\n",
        "\n",
        "# Trouver le nombre minimal de composantes pour atteindre 90% de la variance\n",
        "n_components_90 = np.argmax(cumulative_variance >= 0.90) + 1\n",
        "print(f\"Nombre de composantes nécessaires pour conserver 90% de la variance : {n_components_90}\")\n"
      ]
    },
    {
      "cell_type": "markdown",
      "source": [
        "##  Nombre de composantes pour conserver 90% de la variance\n",
        "\n",
        "- Le graphique ci-dessus montre la **variance cumulée** expliquée par les composantes principales.\n",
        "- On trace également une ligne rouge à **90% de la variance**.\n",
        "\n",
        "**Résultat :**\n",
        "\n",
        "> Il faut **`n_components_90`** composantes principales pour conserver **au moins 90% de la variance** des données d'entraînement.\n",
        "\n",
        "On utilisera donc **`n_components_90`** dans la suite pour réduire la dimension des données.\n"
      ],
      "metadata": {
        "id": "W9-h9iT2DgpA"
      }
    },
    {
      "cell_type": "markdown",
      "metadata": {
        "id": "EQkmJuHJ3d-H"
      },
      "source": [
        "Consignes pour compléter la cellule suivante :\n",
        "\n",
        " - Appliquer l'ACP avec le nombre de composantes trouvé sur les trois subsets : entraîner l'ACP sur le jeu de **Train** puis l'appliquer sur les trois subsets.\n",
        " - Entraîner un MLP de même architecture que dans la partie 1. Veiller à modifier la taille des entrées... Si votre code de définition du MLP dans la Partie 0 code cela en dur, modifiez votre code pour pouvoir passer en paramètre cette dimension.\n",
        " - Dans une même figure, tracer les courbes de loss **Train** et **Valid** dans un subplot et celles d'accuracy dans un autre subplot."
      ]
    },
    {
      "cell_type": "code",
      "execution_count": 19,
      "metadata": {
        "colab": {
          "base_uri": "https://localhost:8080/"
        },
        "id": "hYerJzp43d-H",
        "outputId": "df11b144-fd7b-4cba-d11b-b38f4a18640c"
      },
      "outputs": [
        {
          "output_type": "stream",
          "name": "stdout",
          "text": [
            "Dimensions après ACP - Train: (350, 57), Valid: (9981, 57), Test: (11005, 57)\n"
          ]
        }
      ],
      "source": [
        "# Appliquer l'ACP entraînée sur X_train_scaled avec n_components_90\n",
        "pca = PCA(n_components=n_components_90)\n",
        "X_train_pca = pca.fit_transform(X_train_scaled)\n",
        "X_valid_pca = pca.transform(scaler.transform(X_valid))  # standardiser aussi Valid\n",
        "X_test_pca = pca.transform(scaler.transform(X_test))    # et Test\n",
        "\n",
        "print(f\"Dimensions après ACP - Train: {X_train_pca.shape}, Valid: {X_valid_pca.shape}, Test: {X_test_pca.shape}\")\n"
      ]
    },
    {
      "cell_type": "code",
      "source": [
        "# Entraîner un MLP de même architecture que dans la partie 1. Veiller à modifier la taille des entrées... Si votre code de définition du MLP dans la Partie 0 code cela en dur, modifiez votre code pour pouvoir passer en paramètre cette dimension.\n",
        "# Paramètres\n",
        "input_dim = n_components_90\n",
        "hidden_dim = 64\n",
        "output_dim = len(torch.unique(torch.tensor(y_train)))  # nombre de classes\n",
        "\n",
        "# MLP générique\n",
        "class MLP(nn.Module):\n",
        "    def __init__(self, input_dim, hidden_dim, output_dim):\n",
        "        super().__init__()\n",
        "        self.model = nn.Sequential(\n",
        "            nn.Linear(input_dim, hidden_dim),\n",
        "            nn.ReLU(),\n",
        "            nn.Linear(hidden_dim, output_dim)\n",
        "        )\n",
        "    def forward(self, x):\n",
        "        return self.model(x)\n",
        "\n",
        "# Conversion en tenseurs PyTorch\n",
        "X_train_tensor = torch.tensor(X_train_pca, dtype=torch.float32)\n",
        "y_train_tensor = torch.tensor(y_train, dtype=torch.long)\n",
        "X_valid_tensor = torch.tensor(X_valid_pca, dtype=torch.float32)\n",
        "y_valid_tensor = torch.tensor(y_valid, dtype=torch.long)\n",
        "\n",
        "# Dataloaders\n",
        "train_loader = DataLoader(TensorDataset(X_train_tensor, y_train_tensor), batch_size=32, shuffle=True)\n",
        "valid_loader = DataLoader(TensorDataset(X_valid_tensor, y_valid_tensor), batch_size=32)\n",
        "\n",
        "# Modèle\n",
        "model = MLP(input_dim, hidden_dim, output_dim)\n",
        "criterion = nn.CrossEntropyLoss()\n",
        "optimizer = optim.Adam(model.parameters(), lr=0.001)\n",
        "\n",
        "# Entraînement\n",
        "train_losses, valid_losses = [], []\n",
        "train_accs, valid_accs = [], []\n",
        "\n",
        "for epoch in range(30):\n",
        "    model.train()\n",
        "    running_loss, correct, total = 0, 0, 0\n",
        "    for xb, yb in train_loader:\n",
        "        optimizer.zero_grad()\n",
        "        output = model(xb)\n",
        "        loss = criterion(output, yb)\n",
        "        loss.backward()\n",
        "        optimizer.step()\n",
        "\n",
        "        running_loss += loss.item()\n",
        "        _, predicted = torch.max(output, 1)\n",
        "        correct += (predicted == yb).sum().item()\n",
        "        total += yb.size(0)\n",
        "    train_losses.append(running_loss / len(train_loader))\n",
        "    train_accs.append(correct / total)\n",
        "\n",
        "    # Validation\n",
        "    model.eval()\n",
        "    valid_loss, correct, total = 0, 0, 0\n",
        "    with torch.no_grad():\n",
        "        for xb, yb in valid_loader:\n",
        "            output = model(xb)\n",
        "            loss = criterion(output, yb)\n",
        "            valid_loss += loss.item()\n",
        "            _, predicted = torch.max(output, 1)\n",
        "            correct += (predicted == yb).sum().item()\n",
        "            total += yb.size(0)\n",
        "    valid_losses.append(valid_loss / len(valid_loader))\n",
        "    valid_accs.append(correct / total)\n"
      ],
      "metadata": {
        "colab": {
          "base_uri": "https://localhost:8080/"
        },
        "id": "uDCjg-fyEb-E",
        "outputId": "f660cc79-764f-448b-e53b-d952df7d3596"
      },
      "execution_count": 20,
      "outputs": [
        {
          "output_type": "stream",
          "name": "stderr",
          "text": [
            "<ipython-input-20-ab86e83db293>:5: UserWarning: To copy construct from a tensor, it is recommended to use sourceTensor.clone().detach() or sourceTensor.clone().detach().requires_grad_(True), rather than torch.tensor(sourceTensor).\n",
            "  output_dim = len(torch.unique(torch.tensor(y_train)))  # nombre de classes\n",
            "<ipython-input-20-ab86e83db293>:21: UserWarning: To copy construct from a tensor, it is recommended to use sourceTensor.clone().detach() or sourceTensor.clone().detach().requires_grad_(True), rather than torch.tensor(sourceTensor).\n",
            "  y_train_tensor = torch.tensor(y_train, dtype=torch.long)\n",
            "<ipython-input-20-ab86e83db293>:23: UserWarning: To copy construct from a tensor, it is recommended to use sourceTensor.clone().detach() or sourceTensor.clone().detach().requires_grad_(True), rather than torch.tensor(sourceTensor).\n",
            "  y_valid_tensor = torch.tensor(y_valid, dtype=torch.long)\n"
          ]
        }
      ]
    },
    {
      "cell_type": "code",
      "source": [
        "# Dans une même figure, tracer les courbes de loss Train et Valid dans un subplot et celles d'accuracy dans un autre subplot.\n",
        "epochs = range(1, len(train_losses) + 1)\n",
        "\n",
        "plt.figure(figsize=(12, 5))\n",
        "\n",
        "# Subplot des pertes\n",
        "plt.subplot(1, 2, 1)\n",
        "plt.plot(epochs, train_losses, label='Train Loss')\n",
        "plt.plot(epochs, valid_losses, label='Valid Loss')\n",
        "plt.xlabel('Épochs')\n",
        "plt.ylabel('Loss')\n",
        "plt.title('Courbes de Loss')\n",
        "plt.legend()\n",
        "plt.grid(True)\n",
        "\n",
        "# Subplot des accuracy\n",
        "plt.subplot(1, 2, 2)\n",
        "plt.plot(epochs, train_accs, label='Train Accuracy')\n",
        "plt.plot(epochs, valid_accs, label='Valid Accuracy')\n",
        "plt.xlabel('Épochs')\n",
        "plt.ylabel('Accuracy')\n",
        "plt.title('Courbes d’Accuracy')\n",
        "plt.legend()\n",
        "plt.grid(True)\n",
        "\n",
        "plt.tight_layout()\n",
        "plt.show()\n"
      ],
      "metadata": {
        "colab": {
          "base_uri": "https://localhost:8080/",
          "height": 507
        },
        "id": "emnL-Xv-EfDm",
        "outputId": "7f487de0-96ae-4f2b-d3ed-2209ec1a2ad9"
      },
      "execution_count": 21,
      "outputs": [
        {
          "output_type": "display_data",
          "data": {
            "text/plain": [
              "<Figure size 1200x500 with 2 Axes>"
            ],
            "image/png": "[encoded data removed]"
          },
          "metadata": {}
        }
      ]
    },
    {
      "cell_type": "markdown",
      "metadata": {
        "id": "XvNn0hOX3d-I"
      },
      "source": [
        "Calculer l'accuracy ou taux de bonne classification sur les jeux de **Train**, **Valid** et **Test**."
      ]
    },
    {
      "cell_type": "code",
      "execution_count": 22,
      "metadata": {
        "colab": {
          "base_uri": "https://localhost:8080/"
        },
        "id": "A6LsvS7F3d-I",
        "outputId": "2a587ecd-2c7e-4524-a7d0-51f95a71aa41"
      },
      "outputs": [
        {
          "output_type": "stream",
          "name": "stdout",
          "text": [
            " Accuracy Train : 1.0000\n",
            " Accuracy Valid : 0.8832\n",
            " Accuracy Test  : 0.8698\n"
          ]
        }
      ],
      "source": [
        "# Fonction pour s'assurer que les labels sont bien des tensors\n",
        "def ensure_tensor(y):\n",
        "    return y if isinstance(y, torch.Tensor) else torch.from_numpy(y).long()\n",
        "\n",
        "# Conversion des jeux de données\n",
        "y_train_tensor = ensure_tensor(y_train)\n",
        "y_valid_tensor = ensure_tensor(y_valid)\n",
        "y_test_tensor = ensure_tensor(y_test)\n",
        "\n",
        "X_train_tensor = torch.tensor(X_train_pca, dtype=torch.float32)\n",
        "X_valid_tensor = torch.tensor(X_valid_pca, dtype=torch.float32)\n",
        "X_test_tensor = torch.tensor(X_test_pca, dtype=torch.float32)\n",
        "\n",
        "# Fonction d'évaluation\n",
        "def evaluate_accuracy(model, X, y):\n",
        "    model.eval()\n",
        "    with torch.no_grad():\n",
        "        outputs = model(X)\n",
        "        predicted = torch.argmax(outputs, dim=1)\n",
        "        correct = (predicted == y).sum().item()\n",
        "        accuracy = correct / y.size(0)\n",
        "    return accuracy, predicted\n",
        "\n",
        "# Évaluation\n",
        "acc_train, pred_train = evaluate_accuracy(model, X_train_tensor, y_train_tensor)\n",
        "acc_valid, pred_valid = evaluate_accuracy(model, X_valid_tensor, y_valid_tensor)\n",
        "acc_test, pred_test = evaluate_accuracy(model, X_test_tensor, y_test_tensor)\n",
        "\n",
        "# Affichage des accuracies\n",
        "print(f\" Accuracy Train : {acc_train:.4f}\")\n",
        "print(f\" Accuracy Valid : {acc_valid:.4f}\")\n",
        "print(f\" Accuracy Test  : {acc_test:.4f}\")\n"
      ]
    },
    {
      "cell_type": "markdown",
      "metadata": {
        "id": "lswpXFuv3d-I"
      },
      "source": [
        "## Questions Partie 2 : répondre sous chaque question.\n",
        "\n",
        "- Combien d'epochs ont-elles été effectuées ?\n",
        "\n",
        "- Quels taux de bonne classification obtenez-vous sur **Train**, **Valid** et **Test** ?\n",
        "\n",
        "- Comparer avec la performance obtenue à la Partie 1, commenter.\n",
        "\n",
        "- Remarquez-vous du sur-apprentissage ? Pourquoi ?\n",
        "\n",
        "- Proposer une idée pour lutter contre le sur-apprentissage qui pourrait s'appliquer ici. Il n'est pas demandé de le faire pour ce rendu."
      ]
    },
    {
      "cell_type": "markdown",
      "metadata": {
        "id": "PY4nWdn83d-I"
      },
      "source": [
        "### Questions Partie 2 : répondre sous chaque question.\n",
        "\n",
        "**1. Combien d'epochs ont-elles été effectuées ?**  \n",
        "→ Le nombre d'epochs effectuées est de **30** (défini dans la fonction `for epoch in range(30):` car on le limite  ).\n",
        "\n",
        "---\n",
        "\n",
        "**2. Quels taux de bonne classification obtenez-vous sur Train, Valid et Test ?**  \n",
        "→ Voici les résultats observés :  \n",
        "- Accuracy **Train** : **1.0000**  \n",
        "- Accuracy **Valid** : **0.8832**  \n",
        "- Accuracy **Test** : **0.8698**\n",
        "\n",
        "---\n",
        "\n",
        "**3. Comparer avec la performance obtenue à la Partie 1, commenter.**  \n",
        "→ Par rapport à la Partie 1, les performances sur les jeux de validation et test sont **très bonnes**.  \n",
        "L’ACP a permis de réduire la dimension tout en conservant une bonne qualité de prédiction.  \n",
        "Cependant, l’accuracy de 1.0 sur le jeu d'entraînement indique que le modèle a **potentiellement sur-appris** les données de Train, ce qui n’était peut-être pas aussi marqué dans la Partie 1.\n",
        "\n",
        "---\n",
        "\n",
        "**4. Remarquez-vous du sur-apprentissage ? Pourquoi ?**  \n",
        "→ Oui, il y a du sur-apprentissage.  \n",
        "Le modèle atteint une accuracy parfaite (1.0) sur l’entraînement, mais chute légèrement sur la validation (0.8832) et encore un peu plus sur le test (0.8698), ce qui suggère qu’il a appris à mémoriser les données de Train au lieu de généraliser.\n",
        "\n",
        "---\n",
        "\n",
        "**5. Proposer une idée pour lutter contre le sur-apprentissage qui pourrait s'appliquer ici. Il n'est pas demandé de le faire pour ce rendu.**  \n",
        "→ Pour limiter le sur-apprentissage, on pourrait :  \n",
        "- **Ajouter du dropout** dans le MLP.  \n",
        "- **Utiliser de l’early stopping** basé sur la validation.  \n",
        "- **Réduire la taille ou la complexité du modèle**.  \n",
        "- **Appliquer de la régularisation L2** (weight decay).  \n",
        "- **Augmenter la taille du dataset** si possible.\n"
      ]
    }
  ],
  "metadata": {
    "kernelspec": {
      "display_name": "fm",
      "language": "python",
      "name": "python3"
    },
    "language_info": {
      "codemirror_mode": {
        "name": "ipython",
        "version": 3
      },
      "file_extension": ".py",
      "mimetype": "text/x-python",
      "name": "python",
      "nbconvert_exporter": "python",
      "pygments_lexer": "ipython3",
      "version": "3.10.12"
    },
    "colab": {
      "provenance": []
    }
  },
  "nbformat": 4,
  "nbformat_minor": 0
}